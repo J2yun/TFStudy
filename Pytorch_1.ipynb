{
  "nbformat": 4,
  "nbformat_minor": 0,
  "metadata": {
    "colab": {
      "name": "Pytorch_1.ipynb",
      "provenance": [],
      "collapsed_sections": [],
      "authorship_tag": "ABX9TyMuXD7Hkf6ZLOgaQNnfWybi",
      "include_colab_link": true
    },
    "kernelspec": {
      "name": "python3",
      "display_name": "Python 3"
    }
  },
  "cells": [
    {
      "cell_type": "markdown",
      "metadata": {
        "id": "view-in-github",
        "colab_type": "text"
      },
      "source": [
        "<a href=\"https://colab.research.google.com/github/J2yun/TFStudy/blob/master/Pytorch_1.ipynb\" target=\"_parent\"><img src=\"https://colab.research.google.com/assets/colab-badge.svg\" alt=\"Open In Colab\"/></a>"
      ]
    },
    {
      "cell_type": "code",
      "metadata": {
        "id": "orssZdbLwcrq",
        "colab_type": "code",
        "colab": {
          "base_uri": "https://localhost:8080/",
          "height": 210
        },
        "outputId": "e1d0d1b9-929a-40b1-bb76-e7937f50fcaa"
      },
      "source": [
        "import torch\n",
        "import torch.optim as optim\n",
        "\n",
        "# Data\n",
        "x_train = torch.FloatTensor([[1], [2], [3]])\n",
        "y_train = torch.FloatTensor([[2], [4], [6]])\n",
        "# for hypothesis\n",
        "w = torch.zeros(1, requires_grad = True)\n",
        "b = torch.zeros(1, requires_grad = True)\n",
        "# optimizer\n",
        "optimizer = optim.SGD([W, b], lr = 0.01)\n",
        "\n",
        "nb_epochs = 1000\n",
        "for epoch in range(nb_epochs + 1):\n",
        "    # H(x)\n",
        "    hypothesis = x_train * W + b\n",
        "    # cost\n",
        "    cost = torch.mean((hypothesis - y_train)**2)\n",
        "    # 학습 - optimizer 이용\n",
        "    optimizer.zero_grad() # 변화도 0으로 초기화\n",
        "    cost.backward() # 변화도 계산\n",
        "    optimizer.step() # 가중치 값 바꾸기\n",
        "    \n",
        "    if epoch % 100 == 0:\n",
        "        print('Epoch {:4d}/{} W: {:.3f}, b: {:.3f} Cost: {:.6f}'.format(\n",
        "            epoch, nb_epochs, W.item(), b.item(), cost.item()))"
      ],
      "execution_count": 10,
      "outputs": [
        {
          "output_type": "stream",
          "text": [
            "Epoch    0/1000 W: 1.080, b: 0.041 Cost: 4.803679\n",
            "Epoch  100/1000 W: 1.871, b: 0.293 Cost: 0.012396\n",
            "Epoch  200/1000 W: 1.899, b: 0.231 Cost: 0.007660\n",
            "Epoch  300/1000 W: 1.920, b: 0.181 Cost: 0.004733\n",
            "Epoch  400/1000 W: 1.937, b: 0.142 Cost: 0.002925\n",
            "Epoch  500/1000 W: 1.951, b: 0.112 Cost: 0.001807\n",
            "Epoch  600/1000 W: 1.961, b: 0.088 Cost: 0.001117\n",
            "Epoch  700/1000 W: 1.970, b: 0.069 Cost: 0.000690\n",
            "Epoch  800/1000 W: 1.976, b: 0.054 Cost: 0.000426\n",
            "Epoch  900/1000 W: 1.981, b: 0.043 Cost: 0.000264\n",
            "Epoch 1000/1000 W: 1.985, b: 0.034 Cost: 0.000163\n"
          ],
          "name": "stdout"
        }
      ]
    }
  ]
}